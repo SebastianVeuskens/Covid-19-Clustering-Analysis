{
 "cells": [
  {
   "attachments": {},
   "cell_type": "markdown",
   "metadata": {},
   "source": [
    "# Import"
   ]
  },
  {
   "cell_type": "code",
   "execution_count": 2,
   "metadata": {},
   "outputs": [
    {
     "ename": "ModuleNotFoundError",
     "evalue": "No module named 'alt'",
     "output_type": "error",
     "traceback": [
      "\u001b[1;31m---------------------------------------------------------------------------\u001b[0m",
      "\u001b[1;31mModuleNotFoundError\u001b[0m                       Traceback (most recent call last)",
      "Cell \u001b[1;32mIn [2], line 6\u001b[0m\n\u001b[0;32m      4\u001b[0m \u001b[39mimport\u001b[39;00m \u001b[39mmatplotlib\u001b[39;00m\u001b[39m.\u001b[39;00m\u001b[39mpyplot\u001b[39;00m \u001b[39mas\u001b[39;00m \u001b[39mplt\u001b[39;00m\n\u001b[0;32m      5\u001b[0m \u001b[39mimport\u001b[39;00m \u001b[39maltair\u001b[39;00m \u001b[39mas\u001b[39;00m \u001b[39malt\u001b[39;00m\n\u001b[1;32m----> 6\u001b[0m \u001b[39mimport\u001b[39;00m \u001b[39malt\u001b[39;00m\n\u001b[0;32m      7\u001b[0m \u001b[39mimport\u001b[39;00m \u001b[39mpycountry\u001b[39;00m\n\u001b[0;32m      8\u001b[0m \u001b[39mimport\u001b[39;00m \u001b[39mgeopandas\u001b[39;00m\n",
      "\u001b[1;31mModuleNotFoundError\u001b[0m: No module named 'alt'"
     ]
    }
   ],
   "source": [
    "import numpy as np \n",
    "import pandas as pd\n",
    "import seaborn as sns\n",
    "import matplotlib.pyplot as plt\n",
    "import altair as alt\n",
    "import altair_saver\n",
    "import pycountry\n",
    "import geopandas\n",
    "import countrynames\n",
    "from geopy.geocoders import Nominatim"
   ]
  },
  {
   "cell_type": "markdown",
   "metadata": {},
   "source": [
    "# Fetch data"
   ]
  },
  {
   "cell_type": "code",
   "execution_count": null,
   "metadata": {},
   "outputs": [],
   "source": [
    "initial_data_url = \"https://www.arcgis.com/apps/opsdashboard/index.html#/bda7594740fd40299423467b48e9ecf6\"\n",
    "final_data_url = \"https://data.mendeley.com/datasets/kg72dst75p/1\""
   ]
  },
  {
   "cell_type": "code",
   "execution_count": null,
   "metadata": {},
   "outputs": [],
   "source": [
    "data_1day = pd.read_csv(\"../data/Coronavirus_Data_Cases_1a. Per day.csv\", sep=\";\", encoding=\"latin-1\", index_col=0, header=0, thousands=',')\n",
    "data_1date = pd.read_csv(\"../data/Coronavirus_Data_Cases_1b. Per date.csv\", sep=\";\", encoding=\"latin-1\", index_col=0, header=0, thousands=',')\n",
    "data_2day = pd.read_csv(\"../data/Coronavirus_Data_Cases_2a. Per day_population.csv\", sep=\";\", encoding=\"latin-1\", index_col=0, header=0, thousands=',')\n",
    "data_2date = pd.read_csv(\"../data/Coronavirus_Data_Cases_2b. Per date_population.csv\", sep=\";\", encoding=\"latin-1\", index_col=0, header=0, thousands=',')\n",
    "data_5date = pd.read_csv(\"../data/Coronavirus_Data_Cases_5a. Per date_popul_surf.csv\", sep=\";\", encoding=\"latin-1\", index_col=0, header=0, thousands=',')\n",
    "data_5day = pd.read_csv(\"../data/Coronavirus_Data_Cases_5a. Per day_popul_surf.csv\", sep=\";\", encoding=\"latin-1\", index_col=0, header=0, thousands=',')"
   ]
  },
  {
   "cell_type": "markdown",
   "metadata": {},
   "source": [
    "# Cleaning Data\n",
    "## Adjust Data types and columns"
   ]
  },
  {
   "cell_type": "code",
   "execution_count": null,
   "metadata": {},
   "outputs": [],
   "source": [
    "def clean_util(dataframe, name, statistics=False):\n",
    "    if statistics:\n",
    "        dataframe_with_metric = dataframe.iloc[-4:].copy()\n",
    "        dataframe = dataframe.iloc[:-5].copy()\n",
    "    else:\n",
    "        dataframe_with_metric = dataframe.iloc[0].T.squeeze()\n",
    "        dataframe = dataframe.iloc[1:].copy()\n",
    "    dataframe.index.name = name\n",
    "    if name == 'Date':\n",
    "        dataframe.index = pd.to_datetime(dataframe.index, format='%d/%m/%Y')\n",
    "    else:\n",
    "        dataframe.index = dataframe.index.astype(int)\n",
    "    return (dataframe, dataframe_with_metric)\n",
    "\n",
    "def clean_up(dataframe):\n",
    "\n",
    "    dataframe.dropna(axis=1, how='all', inplace=True)\n",
    "    dataframe = dataframe.apply(pd.to_numeric, args={'coerce'})\n",
    "    dataframe.columns = [col.replace('United Kingdom', 'UK') for col in dataframe.columns]\n",
    "\n",
    "    if type(dataframe.index[0]) != str:\n",
    "        dataframe.index.name = 'Day'\n",
    "        return dataframe\n",
    "\n",
    "    elif 'Density' in dataframe.index[0]  or 'Population' in dataframe.index[0]:\n",
    "        temp = dataframe.index[1]\n",
    "        if '/' not in dataframe.index[1]:\n",
    "            return clean_util(dataframe, 'Day')\n",
    "        elif '/' in dataframe.index[1]:\n",
    "            return clean_util(dataframe, 'Date')\n",
    "    \n",
    "    else:\n",
    "        return clean_util(dataframe, 'Date', statistics=True)\n",
    "\n",
    "\n",
    "data_1day = clean_up(data_1day)\n",
    "data_1date, data_1date_metrics = clean_up(data_1date)\n",
    "data_2day, data_2day_population = clean_up(data_2day)\n",
    "data_2date, data_2date_population = clean_up(data_2date)\n",
    "data_5day, data_5day_density = clean_up(data_5day)\n",
    "data_5date, data_5date_density = clean_up(data_5date)"
   ]
  },
  {
   "attachments": {},
   "cell_type": "markdown",
   "metadata": {},
   "source": [
    "## Choose relevant columns - truncating data"
   ]
  },
  {
   "cell_type": "code",
   "execution_count": null,
   "metadata": {},
   "outputs": [],
   "source": [
    "def truncate_date(data_date):\n",
    "    last_day = data_date.loc['04/04/2020']\n",
    "    last_day = last_day.sort_values(ascending=False)\n",
    "    last_day_high = last_day[:30]\n",
    "    last_day_low = last_day[-30:]\n",
    "    data_high = data_date[last_day_high.index]\n",
    "    data_low = data_date[last_day_low.index]\n",
    "    return data_high, data_low\n",
    "\n",
    "def truncate_day(data_day, data_date):\n",
    "    columns = list(set(data_day.columns) & set(data_date.columns))\n",
    "    first_occ = data_date[columns] > 0 \n",
    "    first_occ = first_occ.apply(pd.Series.idxmax)\n",
    "    first_occ.sort_values(ascending = True, inplace=True)\n",
    "    first_occ_high = first_occ[:30]\n",
    "    first_occ_low = first_occ[-30:]\n",
    "    data_high = data_day[first_occ_high.index] \n",
    "    data_low = data_day[first_occ_low.index]\n",
    "    return data_high, data_low\n",
    "\n",
    "data_1date_trunc, data_1date_low = truncate_date(data_1date) \n",
    "data_2date_trunc, data_2date_low = truncate_date(data_2date)\n",
    "data_5date_trunc, data_5date_low = truncate_date(data_5date)\n",
    "data_1day_trunc, data_1day_low = truncate_day(data_1day, data_1date)   \n",
    "data_2day_trunc, data_2day_low = truncate_day(data_2day, data_2date)\n",
    "data_5day_trunc, data_5day_low = truncate_day(data_5day, data_5date)"
   ]
  }
 ],
 "metadata": {
  "kernelspec": {
   "display_name": "Python 3",
   "language": "python",
   "name": "python3"
  },
  "language_info": {
   "codemirror_mode": {
    "name": "ipython",
    "version": 3
   },
   "file_extension": ".py",
   "mimetype": "text/x-python",
   "name": "python",
   "nbconvert_exporter": "python",
   "pygments_lexer": "ipython3",
   "version": "3.10.4"
  },
  "orig_nbformat": 4,
  "vscode": {
   "interpreter": {
    "hash": "3ef525aed409cc5a13783047c8d4d090b051bbc20387ad523d849e44a70e3fe1"
   }
  }
 },
 "nbformat": 4,
 "nbformat_minor": 2
}
