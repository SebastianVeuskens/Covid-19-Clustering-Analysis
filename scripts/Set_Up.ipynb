{
 "cells": [
  {
   "attachments": {},
   "cell_type": "markdown",
   "metadata": {},
   "source": [
    "# Set-Up"
   ]
  },
  {
   "cell_type": "code",
   "execution_count": 2,
   "metadata": {},
   "outputs": [],
   "source": [
    "import logging \n",
    "import numpy as np \n",
    "import pandas as pd\n",
    "import seaborn as sns\n",
    "import matplotlib.pyplot as plt\n",
    "import altair as alt\n",
    "import pycountry\n",
    "import geopandas\n",
    "import countrynames\n",
    "from matplotlib.ticker import FixedLocator\n",
    "from sklearn.metrics import pairwise_distances\n",
    "from geopy.geocoders import Nominatim"
   ]
  },
  {
   "cell_type": "code",
   "execution_count": null,
   "metadata": {},
   "outputs": [],
   "source": [
    "logging.basicConfig(filename='../debug_info.log', encoding='utf-8', level=logging.DEBUG)"
   ]
  },
  {
   "cell_type": "markdown",
   "metadata": {},
   "source": [
    "# Fetch data"
   ]
  },
  {
   "cell_type": "code",
   "execution_count": null,
   "metadata": {},
   "outputs": [],
   "source": [
    "initial_data_url = \"https://www.arcgis.com/apps/opsdashboard/index.html#/bda7594740fd40299423467b48e9ecf6\"\n",
    "final_data_url = \"https://data.mendeley.com/datasets/kg72dst75p/1\""
   ]
  },
  {
   "cell_type": "code",
   "execution_count": null,
   "metadata": {},
   "outputs": [],
   "source": [
    "data_1day = pd.read_csv(\"../data/Coronavirus_Data_Cases_1a. Per day.csv\", sep=\";\", encoding=\"latin-1\", index_col=0, header=0, thousands=',')\n",
    "data_1date = pd.read_csv(\"../data/Coronavirus_Data_Cases_1b. Per date.csv\", sep=\";\", encoding=\"latin-1\", index_col=0, header=0, thousands=',')\n",
    "data_2day = pd.read_csv(\"../data/Coronavirus_Data_Cases_2a. Per day_population.csv\", sep=\";\", encoding=\"latin-1\", index_col=0, header=0, thousands=',')\n",
    "data_2date = pd.read_csv(\"../data/Coronavirus_Data_Cases_2b. Per date_population.csv\", sep=\";\", encoding=\"latin-1\", index_col=0, header=0, thousands=',')\n",
    "data_5date = pd.read_csv(\"../data/Coronavirus_Data_Cases_5a. Per date_popul_surf.csv\", sep=\";\", encoding=\"latin-1\", index_col=0, header=0, thousands=',')\n",
    "data_5day = pd.read_csv(\"../data/Coronavirus_Data_Cases_5a. Per day_popul_surf.csv\", sep=\";\", encoding=\"latin-1\", index_col=0, header=0, thousands=',')"
   ]
  },
  {
   "cell_type": "markdown",
   "metadata": {},
   "source": [
    "# Cleaning Data\n",
    "## Adjust Data types and columns"
   ]
  },
  {
   "cell_type": "code",
   "execution_count": null,
   "metadata": {},
   "outputs": [],
   "source": [
    "def clean_util(dataframe, name, statistics=False):\n",
    "    if statistics:\n",
    "        dataframe_with_metric = dataframe.iloc[-4:].copy()\n",
    "        dataframe = dataframe.iloc[:-5].copy()\n",
    "    else:\n",
    "        dataframe_with_metric = dataframe.iloc[0].T.squeeze()\n",
    "        dataframe = dataframe.iloc[1:].copy()\n",
    "    dataframe.index.name = name\n",
    "    if name == 'Date':\n",
    "        dataframe.index = pd.to_datetime(dataframe.index, format='%d/%m/%Y')\n",
    "    else:\n",
    "        dataframe.index = dataframe.index.astype(int)\n",
    "    return (dataframe, dataframe_with_metric)\n",
    "\n",
    "def clean_up(dataframe):\n",
    "\n",
    "    dataframe.dropna(axis=1, how='all', inplace=True)\n",
    "    dataframe = dataframe.apply(pd.to_numeric, args={'coerce'})\n",
    "    dataframe.columns = [col.replace('United Kingdom', 'UK') for col in dataframe.columns]\n",
    "\n",
    "    if type(dataframe.index[0]) != str:\n",
    "        dataframe.index.name = 'Day'\n",
    "        return dataframe\n",
    "\n",
    "    elif 'Density' in dataframe.index[0]  or 'Population' in dataframe.index[0]:\n",
    "        temp = dataframe.index[1]\n",
    "        if '/' not in dataframe.index[1]:\n",
    "            return clean_util(dataframe, 'Day')\n",
    "        elif '/' in dataframe.index[1]:\n",
    "            return clean_util(dataframe, 'Date')\n",
    "    \n",
    "    else:\n",
    "        return clean_util(dataframe, 'Date', statistics=True)\n",
    "\n",
    "\n",
    "data_1day = clean_up(data_1day)\n",
    "data_1date, data_1date_metrics = clean_up(data_1date)\n",
    "data_2day, data_2day_population = clean_up(data_2day)\n",
    "data_2date, data_2date_population = clean_up(data_2date)\n",
    "data_5day, data_5day_density = clean_up(data_5day)\n",
    "data_5date, data_5date_density = clean_up(data_5date)"
   ]
  }
 ],
 "metadata": {
  "kernelspec": {
   "display_name": "Python 3",
   "language": "python",
   "name": "python3"
  },
  "language_info": {
   "codemirror_mode": {
    "name": "ipython",
    "version": 3
   },
   "file_extension": ".py",
   "mimetype": "text/x-python",
   "name": "python",
   "nbconvert_exporter": "python",
   "pygments_lexer": "ipython3",
   "version": "3.10.4"
  },
  "orig_nbformat": 4,
  "vscode": {
   "interpreter": {
    "hash": "3ef525aed409cc5a13783047c8d4d090b051bbc20387ad523d849e44a70e3fe1"
   }
  }
 },
 "nbformat": 4,
 "nbformat_minor": 2
}
